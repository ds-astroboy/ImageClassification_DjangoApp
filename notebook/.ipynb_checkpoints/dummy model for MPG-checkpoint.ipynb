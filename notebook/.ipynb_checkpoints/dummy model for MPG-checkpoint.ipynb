{
 "cells": [
  {
   "cell_type": "code",
   "execution_count": 1,
   "metadata": {},
   "outputs": [],
   "source": [
    "import pandas as pd\n",
    "import numpy as np\n",
    "from sklearn import pipeline,preprocessing,metrics,model_selection,ensemble\n",
    "from sklearn_pandas import DataFrameMapper"
   ]
  },
  {
   "cell_type": "code",
   "execution_count": 2,
   "metadata": {},
   "outputs": [],
   "source": [
    "data=pd.read_csv('../mpg_data_example.csv')"
   ]
  },
  {
   "cell_type": "code",
   "execution_count": 3,
   "metadata": {},
   "outputs": [
    {
     "data": {
      "text/html": [
       "<div>\n",
       "<style scoped>\n",
       "    .dataframe tbody tr th:only-of-type {\n",
       "        vertical-align: middle;\n",
       "    }\n",
       "\n",
       "    .dataframe tbody tr th {\n",
       "        vertical-align: top;\n",
       "    }\n",
       "\n",
       "    .dataframe thead th {\n",
       "        text-align: right;\n",
       "    }\n",
       "</style>\n",
       "<table border=\"1\" class=\"dataframe\">\n",
       "  <thead>\n",
       "    <tr style=\"text-align: right;\">\n",
       "      <th></th>\n",
       "      <th>mpg</th>\n",
       "      <th>cylinders</th>\n",
       "      <th>displacement</th>\n",
       "      <th>horsepower</th>\n",
       "      <th>weight</th>\n",
       "      <th>acceleration</th>\n",
       "      <th>model year</th>\n",
       "      <th>origin</th>\n",
       "      <th>car name</th>\n",
       "    </tr>\n",
       "  </thead>\n",
       "  <tbody>\n",
       "    <tr>\n",
       "      <th>0</th>\n",
       "      <td>18.0</td>\n",
       "      <td>8</td>\n",
       "      <td>307.0</td>\n",
       "      <td>130.0</td>\n",
       "      <td>3504</td>\n",
       "      <td>12.0</td>\n",
       "      <td>70</td>\n",
       "      <td>1</td>\n",
       "      <td>chevrolet chevelle malibu</td>\n",
       "    </tr>\n",
       "    <tr>\n",
       "      <th>1</th>\n",
       "      <td>15.0</td>\n",
       "      <td>8</td>\n",
       "      <td>350.0</td>\n",
       "      <td>165.0</td>\n",
       "      <td>3693</td>\n",
       "      <td>11.5</td>\n",
       "      <td>70</td>\n",
       "      <td>1</td>\n",
       "      <td>buick skylark 320</td>\n",
       "    </tr>\n",
       "    <tr>\n",
       "      <th>2</th>\n",
       "      <td>18.0</td>\n",
       "      <td>8</td>\n",
       "      <td>318.0</td>\n",
       "      <td>150.0</td>\n",
       "      <td>3436</td>\n",
       "      <td>11.0</td>\n",
       "      <td>70</td>\n",
       "      <td>1</td>\n",
       "      <td>plymouth satellite</td>\n",
       "    </tr>\n",
       "    <tr>\n",
       "      <th>3</th>\n",
       "      <td>16.0</td>\n",
       "      <td>8</td>\n",
       "      <td>304.0</td>\n",
       "      <td>150.0</td>\n",
       "      <td>3433</td>\n",
       "      <td>12.0</td>\n",
       "      <td>70</td>\n",
       "      <td>1</td>\n",
       "      <td>amc rebel sst</td>\n",
       "    </tr>\n",
       "    <tr>\n",
       "      <th>4</th>\n",
       "      <td>17.0</td>\n",
       "      <td>8</td>\n",
       "      <td>302.0</td>\n",
       "      <td>140.0</td>\n",
       "      <td>3449</td>\n",
       "      <td>10.5</td>\n",
       "      <td>70</td>\n",
       "      <td>1</td>\n",
       "      <td>ford torino</td>\n",
       "    </tr>\n",
       "  </tbody>\n",
       "</table>\n",
       "</div>"
      ],
      "text/plain": [
       "    mpg  cylinders  displacement  horsepower  weight  acceleration  \\\n",
       "0  18.0          8         307.0       130.0    3504          12.0   \n",
       "1  15.0          8         350.0       165.0    3693          11.5   \n",
       "2  18.0          8         318.0       150.0    3436          11.0   \n",
       "3  16.0          8         304.0       150.0    3433          12.0   \n",
       "4  17.0          8         302.0       140.0    3449          10.5   \n",
       "\n",
       "   model year  origin                   car name  \n",
       "0          70       1  chevrolet chevelle malibu  \n",
       "1          70       1          buick skylark 320  \n",
       "2          70       1         plymouth satellite  \n",
       "3          70       1              amc rebel sst  \n",
       "4          70       1                ford torino  "
      ]
     },
     "execution_count": 3,
     "metadata": {},
     "output_type": "execute_result"
    }
   ],
   "source": [
    "data.head()"
   ]
  },
  {
   "cell_type": "code",
   "execution_count": 4,
   "metadata": {},
   "outputs": [
    {
     "data": {
      "text/plain": [
       "mpg             0\n",
       "cylinders       0\n",
       "displacement    0\n",
       "horsepower      6\n",
       "weight          0\n",
       "acceleration    0\n",
       "model year      0\n",
       "origin          0\n",
       "car name        0\n",
       "dtype: int64"
      ]
     },
     "execution_count": 4,
     "metadata": {},
     "output_type": "execute_result"
    }
   ],
   "source": [
    "data.isnull().sum()"
   ]
  },
  {
   "cell_type": "code",
   "execution_count": 6,
   "metadata": {},
   "outputs": [
    {
     "name": "stderr",
     "output_type": "stream",
     "text": [
      "c:\\users\\themachine\\.conda\\envs\\python36\\lib\\site-packages\\sklearn\\utils\\deprecation.py:58: DeprecationWarning: Class Imputer is deprecated; Imputer was deprecated in version 0.20 and will be removed in 0.22. Import impute.SimpleImputer from sklearn instead.\n",
      "  warnings.warn(msg, category=DeprecationWarning)\n"
     ]
    }
   ],
   "source": [
    "mapper = DataFrameMapper([\n",
    "                        (['cylinders','displacement','weight','acceleration','model year'], preprocessing.StandardScaler()),\n",
    "                        (['horsepower'],preprocessing.Imputer()),\n",
    "                        (['origin'], preprocessing.OneHotEncoder())\n",
    "                        ])"
   ]
  },
  {
   "cell_type": "code",
   "execution_count": 7,
   "metadata": {},
   "outputs": [],
   "source": [
    "pipeline_obj = pipeline.Pipeline([\n",
    "    ('mapper',mapper),\n",
    "    (\"model\", ensemble.RandomForestRegressor())\n",
    "])"
   ]
  },
  {
   "cell_type": "code",
   "execution_count": 8,
   "metadata": {},
   "outputs": [
    {
     "data": {
      "text/plain": [
       "Index(['mpg', 'cylinders', 'displacement', 'horsepower', 'weight',\n",
       "       'acceleration', 'model year', 'origin', 'car name'],\n",
       "      dtype='object')"
      ]
     },
     "execution_count": 8,
     "metadata": {},
     "output_type": "execute_result"
    }
   ],
   "source": [
    "data.columns"
   ]
  },
  {
   "cell_type": "code",
   "execution_count": 9,
   "metadata": {},
   "outputs": [],
   "source": [
    "X=['cylinders', 'displacement', 'horsepower', 'weight',\n",
    "       'acceleration', 'model year', 'origin']\n",
    "Y=['mpg']"
   ]
  },
  {
   "cell_type": "code",
   "execution_count": 10,
   "metadata": {},
   "outputs": [
    {
     "name": "stderr",
     "output_type": "stream",
     "text": [
      "c:\\users\\themachine\\.conda\\envs\\python36\\lib\\site-packages\\sklearn\\preprocessing\\_encoders.py:371: FutureWarning: The handling of integer data will change in version 0.22. Currently, the categories are determined based on the range [0, max(values)], while in the future they will be determined based on the unique values.\n",
      "If you want the future behaviour and silence this warning, you can specify \"categories='auto'\".\n",
      "In case you used a LabelEncoder before this OneHotEncoder to convert the categories to integers, then you can now use the OneHotEncoder directly.\n",
      "  warnings.warn(msg, FutureWarning)\n",
      "c:\\users\\themachine\\.conda\\envs\\python36\\lib\\site-packages\\sklearn\\ensemble\\forest.py:246: FutureWarning: The default value of n_estimators will change from 10 in version 0.20 to 100 in 0.22.\n",
      "  \"10 in version 0.20 to 100 in 0.22.\", FutureWarning)\n",
      "c:\\users\\themachine\\.conda\\envs\\python36\\lib\\site-packages\\sklearn\\pipeline.py:267: DataConversionWarning: A column-vector y was passed when a 1d array was expected. Please change the shape of y to (n_samples,), for example using ravel().\n",
      "  self._final_estimator.fit(Xt, y, **fit_params)\n"
     ]
    },
    {
     "data": {
      "text/plain": [
       "Pipeline(memory=None,\n",
       "     steps=[('mapper', DataFrameMapper(default=False, df_out=False,\n",
       "        features=[(['cylinders', 'displacement', 'weight', 'acceleration', 'model year'], StandardScaler(copy=True, with_mean=True, with_std=True)), (['horsepower'], Imputer(axis=0, copy=True, missing_values='NaN', strategy='mean', verbo...ators=10, n_jobs=None,\n",
       "           oob_score=False, random_state=None, verbose=0, warm_start=False))])"
      ]
     },
     "execution_count": 10,
     "metadata": {},
     "output_type": "execute_result"
    }
   ],
   "source": [
    "pipeline_obj.fit(data[X],data[Y])"
   ]
  },
  {
   "cell_type": "code",
   "execution_count": 11,
   "metadata": {},
   "outputs": [
    {
     "data": {
      "text/plain": [
       "array([16.9 , 14.7 , 17.2 , 16.3 , 16.6 , 14.9 , 14.1 , 13.8 , 13.6 ,\n",
       "       14.7 , 14.8 , 14.3 , 14.9 , 15.1 , 24.  , 21.7 , 19.1 , 20.02,\n",
       "       27.  , 26.45, 24.85, 24.1 , 24.8 , 24.7 , 20.4 , 10.9 , 11.8 ,\n",
       "       12.  ,  9.7 , 27.  , 24.7 , 24.5 , 24.5 , 19.3 , 16.4 , 17.6 ,\n",
       "       18.7 , 18.3 , 13.8 , 13.5 , 14.1 , 14.  , 12.1 , 13.  , 12.8 ,\n",
       "       18.  , 22.65, 18.9 , 18.1 , 22.4 , 27.2 , 30.1 , 29.6 , 31.7 ,\n",
       "       34.  , 27.65, 26.2 , 23.6 , 25.2 , 22.7 , 21.  , 21.2 , 13.2 ,\n",
       "       13.5 , 14.7 , 14.2 , 15.9 , 11.5 , 12.7 , 12.5 , 13.1 , 18.9 ,\n",
       "       14.8 , 13.4 , 13.7 , 14.1 , 18.79, 21.9 , 20.8 , 26.15, 22.25,\n",
       "       25.1 , 22.7 , 26.8 , 26.3 , 13.3 , 14.5 , 13.2 , 14.15, 14.4 ,\n",
       "       11.6 , 13.  , 13.4 , 14.  , 12.1 , 11.9 , 13.2 , 18.  , 16.7 ,\n",
       "       19.  , 18.9 , 22.4 , 26.3 , 11.9 , 12.3 , 12.7 , 12.3 , 19.1 ,\n",
       "       19.9 , 22.15, 23.9 , 21.6 , 20.1 , 21.1 , 25.5 , 14.2 , 15.  ,\n",
       "       28.1 , 24.8 , 21.85, 19.65, 15.2 , 23.6 , 20.1 , 12.5 , 20.1 ,\n",
       "       20.  , 19.1 , 16.4 , 31.1 , 24.7 , 31.2 , 25.15, 16.35, 15.6 ,\n",
       "       17.8 , 15.2 , 13.3 , 13.9 , 14.4 , 14.25, 28.3 , 27.05, 25.9 ,\n",
       "       31.4 , 31.9 , 27.4 , 25.2 , 26.15, 24.3 , 25.6 , 30.65, 19.25,\n",
       "       17.8 , 15.3 , 17.55, 15.15, 14.9 , 15.  , 14.75, 16.6 , 15.55,\n",
       "       15.1 , 17.2 , 20.5 , 19.5 , 15.75, 28.8 , 24.45, 19.4 , 23.2 ,\n",
       "       24.55, 26.25, 24.25, 19.48, 29.  , 19.24, 23.95, 22.7 , 21.86,\n",
       "       24.55, 32.1 , 26.9 , 25.99, 25.  , 25.9 , 26.9 , 16.94, 15.6 ,\n",
       "       16.03, 15.4 , 21.75, 20.35, 23.4 , 21.24, 28.4 , 25.55, 29.  ,\n",
       "       32.4 , 19.16, 18.46, 18.46, 18.74, 30.05, 31.95, 27.95, 25.9 ,\n",
       "       20.36, 13.  , 19.6 , 19.3 , 17.42, 16.35, 13.95, 13.97, 13.1 ,\n",
       "       31.35, 29.2 , 34.6 , 26.35, 33.59, 14.8 , 17.25, 15.35, 15.57,\n",
       "       18.23, 19.8 , 19.01, 18.34, 15.85, 15.6 , 15.8 , 15.84, 29.49,\n",
       "       25.13, 25.35, 24.46, 30.53, 32.85, 31.19, 30.2 , 22.04, 22.45,\n",
       "       20.3 , 38.53, 35.58, 33.9 , 37.77, 36.04, 19.85, 19.4 , 19.64,\n",
       "       18.97, 20.12, 20.5 , 24.88, 19.89, 19.68, 20.37, 20.44, 18.49,\n",
       "       17.99, 19.2 , 18.22, 18.63, 17.16, 31.23, 26.26, 26.09, 29.34,\n",
       "       23.07, 23.01, 23.04, 24.93, 20.47, 19.  , 20.97, 17.87, 31.8 ,\n",
       "       31.71, 21.46, 21.97, 23.63, 20.63, 20.39, 17.1 , 18.34, 18.01,\n",
       "       17.46, 16.68, 16.65, 18.99, 18.57, 35.93, 34.49, 35.46, 27.17,\n",
       "       25.98, 21.5 , 28.65, 22.32, 35.07, 35.32, 32.7 , 36.86, 27.85,\n",
       "       27.98, 25.9 , 31.04, 39.22, 38.1 , 32.93, 37.27, 27.68, 26.09,\n",
       "       25.37, 20.33, 35.02, 30.46, 31.2 , 34.09, 32.58, 44.73, 27.06,\n",
       "       41.24, 41.44, 39.56, 35.83, 31.01, 38.04, 38.33, 37.21, 33.17,\n",
       "       27.6 , 26.36, 33.59, 23.63, 32.93, 28.24, 26.74, 27.08, 23.96,\n",
       "       30.01, 38.02, 36.98, 36.45, 34.86, 36.31, 36.93, 34.02, 35.05,\n",
       "       34.68, 31.28, 33.3 , 35.12, 34.39, 33.08, 32.61, 31.21, 27.33,\n",
       "       30.9 , 26.16, 26.73, 20.47, 25.16, 20.39, 20.94, 28.9 , 28.5 ,\n",
       "       33.12, 30.4 , 30.35, 27.1 , 24.9 , 25.59, 34.66, 35.71, 32.31,\n",
       "       37.6 , 35.68, 36.35, 35.31, 34.  , 35.32, 32.72, 35.82, 24.57,\n",
       "       32.29, 26.93, 25.5 , 30.44, 33.77, 26.67, 26.66, 40.84, 32.57,\n",
       "       28.24, 30.64])"
      ]
     },
     "execution_count": 11,
     "metadata": {},
     "output_type": "execute_result"
    }
   ],
   "source": [
    "pipeline_obj.predict(data[X])"
   ]
  },
  {
   "cell_type": "code",
   "execution_count": 12,
   "metadata": {},
   "outputs": [],
   "source": [
    "from sklearn.externals import joblib"
   ]
  },
  {
   "cell_type": "code",
   "execution_count": 13,
   "metadata": {},
   "outputs": [
    {
     "data": {
      "text/plain": [
       "['RFModelforMPG.pkl']"
      ]
     },
     "execution_count": 13,
     "metadata": {},
     "output_type": "execute_result"
    }
   ],
   "source": [
    "joblib.dump(pipeline_obj,'RFModelforMPG.pkl')"
   ]
  },
  {
   "cell_type": "code",
   "execution_count": 14,
   "metadata": {},
   "outputs": [],
   "source": [
    "modelReload=joblib.load('RFModelforMPG.pkl')"
   ]
  },
  {
   "cell_type": "code",
   "execution_count": 15,
   "metadata": {},
   "outputs": [
    {
     "data": {
      "text/plain": [
       "array([16.9 , 14.7 , 17.2 , 16.3 , 16.6 , 14.9 , 14.1 , 13.8 , 13.6 ,\n",
       "       14.7 , 14.8 , 14.3 , 14.9 , 15.1 , 24.  , 21.7 , 19.1 , 20.02,\n",
       "       27.  , 26.45, 24.85, 24.1 , 24.8 , 24.7 , 20.4 , 10.9 , 11.8 ,\n",
       "       12.  ,  9.7 , 27.  , 24.7 , 24.5 , 24.5 , 19.3 , 16.4 , 17.6 ,\n",
       "       18.7 , 18.3 , 13.8 , 13.5 , 14.1 , 14.  , 12.1 , 13.  , 12.8 ,\n",
       "       18.  , 22.65, 18.9 , 18.1 , 22.4 , 27.2 , 30.1 , 29.6 , 31.7 ,\n",
       "       34.  , 27.65, 26.2 , 23.6 , 25.2 , 22.7 , 21.  , 21.2 , 13.2 ,\n",
       "       13.5 , 14.7 , 14.2 , 15.9 , 11.5 , 12.7 , 12.5 , 13.1 , 18.9 ,\n",
       "       14.8 , 13.4 , 13.7 , 14.1 , 18.79, 21.9 , 20.8 , 26.15, 22.25,\n",
       "       25.1 , 22.7 , 26.8 , 26.3 , 13.3 , 14.5 , 13.2 , 14.15, 14.4 ,\n",
       "       11.6 , 13.  , 13.4 , 14.  , 12.1 , 11.9 , 13.2 , 18.  , 16.7 ,\n",
       "       19.  , 18.9 , 22.4 , 26.3 , 11.9 , 12.3 , 12.7 , 12.3 , 19.1 ,\n",
       "       19.9 , 22.15, 23.9 , 21.6 , 20.1 , 21.1 , 25.5 , 14.2 , 15.  ,\n",
       "       28.1 , 24.8 , 21.85, 19.65, 15.2 , 23.6 , 20.1 , 12.5 , 20.1 ,\n",
       "       20.  , 19.1 , 16.4 , 31.1 , 24.7 , 31.2 , 25.15, 16.35, 15.6 ,\n",
       "       17.8 , 15.2 , 13.3 , 13.9 , 14.4 , 14.25, 28.3 , 27.05, 25.9 ,\n",
       "       31.4 , 31.9 , 27.4 , 25.2 , 26.15, 24.3 , 25.6 , 30.65, 19.25,\n",
       "       17.8 , 15.3 , 17.55, 15.15, 14.9 , 15.  , 14.75, 16.6 , 15.55,\n",
       "       15.1 , 17.2 , 20.5 , 19.5 , 15.75, 28.8 , 24.45, 19.4 , 23.2 ,\n",
       "       24.55, 26.25, 24.25, 19.48, 29.  , 19.24, 23.95, 22.7 , 21.86,\n",
       "       24.55, 32.1 , 26.9 , 25.99, 25.  , 25.9 , 26.9 , 16.94, 15.6 ,\n",
       "       16.03, 15.4 , 21.75, 20.35, 23.4 , 21.24, 28.4 , 25.55, 29.  ,\n",
       "       32.4 , 19.16, 18.46, 18.46, 18.74, 30.05, 31.95, 27.95, 25.9 ,\n",
       "       20.36, 13.  , 19.6 , 19.3 , 17.42, 16.35, 13.95, 13.97, 13.1 ,\n",
       "       31.35, 29.2 , 34.6 , 26.35, 33.59, 14.8 , 17.25, 15.35, 15.57,\n",
       "       18.23, 19.8 , 19.01, 18.34, 15.85, 15.6 , 15.8 , 15.84, 29.49,\n",
       "       25.13, 25.35, 24.46, 30.53, 32.85, 31.19, 30.2 , 22.04, 22.45,\n",
       "       20.3 , 38.53, 35.58, 33.9 , 37.77, 36.04, 19.85, 19.4 , 19.64,\n",
       "       18.97, 20.12, 20.5 , 24.88, 19.89, 19.68, 20.37, 20.44, 18.49,\n",
       "       17.99, 19.2 , 18.22, 18.63, 17.16, 31.23, 26.26, 26.09, 29.34,\n",
       "       23.07, 23.01, 23.04, 24.93, 20.47, 19.  , 20.97, 17.87, 31.8 ,\n",
       "       31.71, 21.46, 21.97, 23.63, 20.63, 20.39, 17.1 , 18.34, 18.01,\n",
       "       17.46, 16.68, 16.65, 18.99, 18.57, 35.93, 34.49, 35.46, 27.17,\n",
       "       25.98, 21.5 , 28.65, 22.32, 35.07, 35.32, 32.7 , 36.86, 27.85,\n",
       "       27.98, 25.9 , 31.04, 39.22, 38.1 , 32.93, 37.27, 27.68, 26.09,\n",
       "       25.37, 20.33, 35.02, 30.46, 31.2 , 34.09, 32.58, 44.73, 27.06,\n",
       "       41.24, 41.44, 39.56, 35.83, 31.01, 38.04, 38.33, 37.21, 33.17,\n",
       "       27.6 , 26.36, 33.59, 23.63, 32.93, 28.24, 26.74, 27.08, 23.96,\n",
       "       30.01, 38.02, 36.98, 36.45, 34.86, 36.31, 36.93, 34.02, 35.05,\n",
       "       34.68, 31.28, 33.3 , 35.12, 34.39, 33.08, 32.61, 31.21, 27.33,\n",
       "       30.9 , 26.16, 26.73, 20.47, 25.16, 20.39, 20.94, 28.9 , 28.5 ,\n",
       "       33.12, 30.4 , 30.35, 27.1 , 24.9 , 25.59, 34.66, 35.71, 32.31,\n",
       "       37.6 , 35.68, 36.35, 35.31, 34.  , 35.32, 32.72, 35.82, 24.57,\n",
       "       32.29, 26.93, 25.5 , 30.44, 33.77, 26.67, 26.66, 40.84, 32.57,\n",
       "       28.24, 30.64])"
      ]
     },
     "execution_count": 15,
     "metadata": {},
     "output_type": "execute_result"
    }
   ],
   "source": [
    "modelReload.predict(data[X])"
   ]
  },
  {
   "cell_type": "code",
   "execution_count": null,
   "metadata": {},
   "outputs": [],
   "source": [
    "temp={}\n",
    "temp['cylinders']=1\n",
    "temp['displacement']=2\n",
    "temp['horsepower']=3\n",
    "temp['weight']=4\n",
    "temp['acceleration']=5\n",
    "temp['model year']=6\n",
    "temp['origin']=1"
   ]
  },
  {
   "cell_type": "code",
   "execution_count": null,
   "metadata": {},
   "outputs": [],
   "source": [
    "testDtaa=pd.DataFrame({'x':temp}).transpose()"
   ]
  },
  {
   "cell_type": "code",
   "execution_count": null,
   "metadata": {},
   "outputs": [],
   "source": [
    "modelReload.predict(testDtaa)[0]"
   ]
  },
  {
   "cell_type": "code",
   "execution_count": null,
   "metadata": {},
   "outputs": [],
   "source": []
  }
 ],
 "metadata": {
  "kernelspec": {
   "display_name": "Python 3",
   "language": "python",
   "name": "python3"
  },
  "language_info": {
   "codemirror_mode": {
    "name": "ipython",
    "version": 3
   },
   "file_extension": ".py",
   "mimetype": "text/x-python",
   "name": "python",
   "nbconvert_exporter": "python",
   "pygments_lexer": "ipython3",
   "version": "3.6.9"
  }
 },
 "nbformat": 4,
 "nbformat_minor": 2
}
