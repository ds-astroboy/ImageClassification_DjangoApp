{
 "cells": [
  {
   "cell_type": "markdown",
   "metadata": {},
   "source": [
    "https://keras.io/applications/#mobilenet\n",
    "\n",
    "https://gist.github.com/yrevar/942d3a0ac09ec9e5eb3a#file-imagenet1000_clsidx_to_labels-txt"
   ]
  },
  {
   "cell_type": "code",
   "execution_count": 1,
   "metadata": {},
   "outputs": [
    {
     "name": "stderr",
     "output_type": "stream",
     "text": [
      "Using TensorFlow backend.\n",
      "C:\\Users\\swsh\\AppData\\Local\\Continuum\\anaconda3\\envs\\py36\\lib\\site-packages\\tensorflow\\python\\framework\\dtypes.py:526: FutureWarning: Passing (type, 1) or '1type' as a synonym of type is deprecated; in a future version of numpy, it will be understood as (type, (1,)) / '(1,)type'.\n",
      "  _np_qint8 = np.dtype([(\"qint8\", np.int8, 1)])\n",
      "C:\\Users\\swsh\\AppData\\Local\\Continuum\\anaconda3\\envs\\py36\\lib\\site-packages\\tensorflow\\python\\framework\\dtypes.py:527: FutureWarning: Passing (type, 1) or '1type' as a synonym of type is deprecated; in a future version of numpy, it will be understood as (type, (1,)) / '(1,)type'.\n",
      "  _np_quint8 = np.dtype([(\"quint8\", np.uint8, 1)])\n",
      "C:\\Users\\swsh\\AppData\\Local\\Continuum\\anaconda3\\envs\\py36\\lib\\site-packages\\tensorflow\\python\\framework\\dtypes.py:528: FutureWarning: Passing (type, 1) or '1type' as a synonym of type is deprecated; in a future version of numpy, it will be understood as (type, (1,)) / '(1,)type'.\n",
      "  _np_qint16 = np.dtype([(\"qint16\", np.int16, 1)])\n",
      "C:\\Users\\swsh\\AppData\\Local\\Continuum\\anaconda3\\envs\\py36\\lib\\site-packages\\tensorflow\\python\\framework\\dtypes.py:529: FutureWarning: Passing (type, 1) or '1type' as a synonym of type is deprecated; in a future version of numpy, it will be understood as (type, (1,)) / '(1,)type'.\n",
      "  _np_quint16 = np.dtype([(\"quint16\", np.uint16, 1)])\n",
      "C:\\Users\\swsh\\AppData\\Local\\Continuum\\anaconda3\\envs\\py36\\lib\\site-packages\\tensorflow\\python\\framework\\dtypes.py:530: FutureWarning: Passing (type, 1) or '1type' as a synonym of type is deprecated; in a future version of numpy, it will be understood as (type, (1,)) / '(1,)type'.\n",
      "  _np_qint32 = np.dtype([(\"qint32\", np.int32, 1)])\n",
      "C:\\Users\\swsh\\AppData\\Local\\Continuum\\anaconda3\\envs\\py36\\lib\\site-packages\\tensorflow\\python\\framework\\dtypes.py:535: FutureWarning: Passing (type, 1) or '1type' as a synonym of type is deprecated; in a future version of numpy, it will be understood as (type, (1,)) / '(1,)type'.\n",
      "  np_resource = np.dtype([(\"resource\", np.ubyte, 1)])\n"
     ]
    }
   ],
   "source": [
    "from keras.applications import mobilenet"
   ]
  },
  {
   "cell_type": "code",
   "execution_count": 2,
   "metadata": {},
   "outputs": [
    {
     "name": "stdout",
     "output_type": "stream",
     "text": [
      "WARNING:tensorflow:From C:\\Users\\swsh\\AppData\\Local\\Continuum\\anaconda3\\envs\\py36\\lib\\site-packages\\tensorflow\\python\\framework\\op_def_library.py:263: colocate_with (from tensorflow.python.framework.ops) is deprecated and will be removed in a future version.\n",
      "Instructions for updating:\n",
      "Colocations handled automatically by placer.\n",
      "WARNING:tensorflow:From C:\\Users\\swsh\\AppData\\Local\\Continuum\\anaconda3\\envs\\py36\\lib\\site-packages\\keras\\backend\\tensorflow_backend.py:3445: calling dropout (from tensorflow.python.ops.nn_ops) with keep_prob is deprecated and will be removed in a future version.\n",
      "Instructions for updating:\n",
      "Please use `rate` instead of `keep_prob`. Rate should be set to `rate = 1 - keep_prob`.\n"
     ]
    }
   ],
   "source": [
    "model=mobilenet.MobileNet(include_top=True,weights='imagenet')"
   ]
  },
  {
   "cell_type": "code",
   "execution_count": 3,
   "metadata": {
    "scrolled": true
   },
   "outputs": [
    {
     "data": {
      "text/plain": [
       "[<keras.engine.input_layer.InputLayer at 0x22c169e4f28>,\n",
       " <keras.layers.convolutional.ZeroPadding2D at 0x22c169fd5c0>,\n",
       " <keras.layers.convolutional.Conv2D at 0x22c169fd668>,\n",
       " <keras.layers.normalization.BatchNormalization at 0x22c169fdb38>,\n",
       " <keras.layers.advanced_activations.ReLU at 0x22c169fdfd0>,\n",
       " <keras.layers.convolutional.DepthwiseConv2D at 0x22c169fdac8>,\n",
       " <keras.layers.normalization.BatchNormalization at 0x22c16abf320>,\n",
       " <keras.layers.advanced_activations.ReLU at 0x22c16b4ec88>,\n",
       " <keras.layers.convolutional.Conv2D at 0x22c16bd5c88>,\n",
       " <keras.layers.normalization.BatchNormalization at 0x22c16baeba8>,\n",
       " <keras.layers.advanced_activations.ReLU at 0x22c16ca8b00>,\n",
       " <keras.layers.convolutional.ZeroPadding2D at 0x22c16b79da0>,\n",
       " <keras.layers.convolutional.DepthwiseConv2D at 0x22c16d0d9b0>,\n",
       " <keras.layers.normalization.BatchNormalization at 0x22c16d8ae80>,\n",
       " <keras.layers.advanced_activations.ReLU at 0x22c16db9ac8>,\n",
       " <keras.layers.convolutional.Conv2D at 0x22c16ddca90>,\n",
       " <keras.layers.normalization.BatchNormalization at 0x22c16e43e48>,\n",
       " <keras.layers.advanced_activations.ReLU at 0x22c16e668d0>,\n",
       " <keras.layers.convolutional.DepthwiseConv2D at 0x22c16ee8ef0>,\n",
       " <keras.layers.normalization.BatchNormalization at 0x22c16ee8cf8>,\n",
       " <keras.layers.advanced_activations.ReLU at 0x22c16ff3dd8>,\n",
       " <keras.layers.convolutional.Conv2D at 0x22c17020a58>,\n",
       " <keras.layers.normalization.BatchNormalization at 0x22c170c83c8>,\n",
       " <keras.layers.advanced_activations.ReLU at 0x22c17123be0>,\n",
       " <keras.layers.convolutional.ZeroPadding2D at 0x22c17176438>,\n",
       " <keras.layers.convolutional.DepthwiseConv2D at 0x22c17151908>,\n",
       " <keras.layers.normalization.BatchNormalization at 0x22c17259978>,\n",
       " <keras.layers.advanced_activations.ReLU at 0x22c172595c0>,\n",
       " <keras.layers.convolutional.Conv2D at 0x22c1728efd0>,\n",
       " <keras.layers.normalization.BatchNormalization at 0x22c173332b0>,\n",
       " <keras.layers.advanced_activations.ReLU at 0x22c17388ac8>,\n",
       " <keras.layers.convolutional.DepthwiseConv2D at 0x22c173e2320>,\n",
       " <keras.layers.normalization.BatchNormalization at 0x22c173fbc88>,\n",
       " <keras.layers.advanced_activations.ReLU at 0x22c174c0f28>,\n",
       " <keras.layers.convolutional.Conv2D at 0x22c174f2dd8>,\n",
       " <keras.layers.normalization.BatchNormalization at 0x22c1752d1d0>,\n",
       " <keras.layers.advanced_activations.ReLU at 0x22c175f3320>,\n",
       " <keras.layers.convolutional.ZeroPadding2D at 0x22c17688d30>,\n",
       " <keras.layers.convolutional.DepthwiseConv2D at 0x22c17661748>,\n",
       " <keras.layers.normalization.BatchNormalization at 0x22c177300f0>,\n",
       " <keras.layers.advanced_activations.ReLU at 0x22c17730f98>,\n",
       " <keras.layers.convolutional.Conv2D at 0x22c177b5fd0>,\n",
       " <keras.layers.normalization.BatchNormalization at 0x22c17792dd8>,\n",
       " <keras.layers.advanced_activations.ReLU at 0x22c178592b0>,\n",
       " <keras.layers.convolutional.DepthwiseConv2D at 0x22c178ecc18>,\n",
       " <keras.layers.normalization.BatchNormalization at 0x22c178c7710>,\n",
       " <keras.layers.advanced_activations.ReLU at 0x22c17999e48>,\n",
       " <keras.layers.convolutional.Conv2D at 0x22c17a23a90>,\n",
       " <keras.layers.normalization.BatchNormalization at 0x22c179fa240>,\n",
       " <keras.layers.advanced_activations.ReLU at 0x22c17a49358>,\n",
       " <keras.layers.convolutional.DepthwiseConv2D at 0x22c17af0908>,\n",
       " <keras.layers.normalization.BatchNormalization at 0x22c17aca828>,\n",
       " <keras.layers.advanced_activations.ReLU at 0x22c18ba4a90>,\n",
       " <keras.layers.convolutional.Conv2D at 0x22c18bd2ac8>,\n",
       " <keras.layers.normalization.BatchNormalization at 0x22c18c7b438>,\n",
       " <keras.layers.advanced_activations.ReLU at 0x22c18cd8c50>,\n",
       " <keras.layers.convolutional.DepthwiseConv2D at 0x22c18d2b4a8>,\n",
       " <keras.layers.normalization.BatchNormalization at 0x22c18d03780>,\n",
       " <keras.layers.advanced_activations.ReLU at 0x22c18e0d9e8>,\n",
       " <keras.layers.convolutional.Conv2D at 0x22c18d67390>,\n",
       " <keras.layers.normalization.BatchNormalization at 0x22c18e7e710>,\n",
       " <keras.layers.advanced_activations.ReLU at 0x22c18f424a8>,\n",
       " <keras.layers.convolutional.DepthwiseConv2D at 0x22c18fd1f98>,\n",
       " <keras.layers.normalization.BatchNormalization at 0x22c18fae9b0>,\n",
       " <keras.layers.advanced_activations.ReLU at 0x22c19076f98>,\n",
       " <keras.layers.convolutional.Conv2D at 0x22c19108d30>,\n",
       " <keras.layers.normalization.BatchNormalization at 0x22c190e2c18>,\n",
       " <keras.layers.advanced_activations.ReLU at 0x22c1912bd30>,\n",
       " <keras.layers.convolutional.DepthwiseConv2D at 0x22c19243e80>,\n",
       " <keras.layers.normalization.BatchNormalization at 0x22c192180f0>,\n",
       " <keras.layers.advanced_activations.ReLU at 0x22c192661d0>,\n",
       " <keras.layers.convolutional.Conv2D at 0x22c193759b0>,\n",
       " <keras.layers.normalization.BatchNormalization at 0x22c1934efd0>,\n",
       " <keras.layers.advanced_activations.ReLU at 0x22c1939c748>,\n",
       " <keras.layers.convolutional.ZeroPadding2D at 0x22c19444748>,\n",
       " <keras.layers.convolutional.DepthwiseConv2D at 0x22c19422a20>,\n",
       " <keras.layers.normalization.BatchNormalization at 0x22c1952ac88>,\n",
       " <keras.layers.advanced_activations.ReLU at 0x22c19553e80>,\n",
       " <keras.layers.convolutional.Conv2D at 0x22c1957a828>,\n",
       " <keras.layers.normalization.BatchNormalization at 0x22c196425f8>,\n",
       " <keras.layers.advanced_activations.ReLU at 0x22c1965fdd8>,\n",
       " <keras.layers.convolutional.DepthwiseConv2D at 0x22c196af630>,\n",
       " <keras.layers.normalization.BatchNormalization at 0x22c1968b908>,\n",
       " <keras.layers.advanced_activations.ReLU at 0x22c19776320>,\n",
       " <keras.layers.convolutional.Conv2D at 0x22c19800ba8>,\n",
       " <keras.layers.normalization.BatchNormalization at 0x22c1986c668>,\n",
       " <keras.layers.advanced_activations.ReLU at 0x22c198a9940>,\n",
       " <keras.layers.pooling.GlobalAveragePooling2D at 0x22c198eff60>,\n",
       " <keras.layers.core.Reshape at 0x22c19919cf8>,\n",
       " <keras.layers.core.Dropout at 0x22c19919c88>,\n",
       " <keras.layers.convolutional.Conv2D at 0x22c19919160>,\n",
       " <keras.layers.core.Activation at 0x22c19a514e0>,\n",
       " <keras.layers.core.Reshape at 0x22c19abbcf8>]"
      ]
     },
     "execution_count": 3,
     "metadata": {},
     "output_type": "execute_result"
    }
   ],
   "source": [
    "model.layers"
   ]
  },
  {
   "cell_type": "code",
   "execution_count": 4,
   "metadata": {},
   "outputs": [],
   "source": [
    "from keras.preprocessing import image\n",
    "import tensorflow as tf\n",
    "from tensorflow import Graph, Session"
   ]
  },
  {
   "cell_type": "code",
   "execution_count": 5,
   "metadata": {},
   "outputs": [],
   "source": [
    "img_height, img_width=224,224"
   ]
  },
  {
   "cell_type": "code",
   "execution_count": 6,
   "metadata": {},
   "outputs": [],
   "source": [
    "with open('imagenet_classes.json','r') as f:\n",
    "    labelInfo=f.read()"
   ]
  },
  {
   "cell_type": "code",
   "execution_count": 7,
   "metadata": {},
   "outputs": [],
   "source": [
    "import json"
   ]
  },
  {
   "cell_type": "code",
   "execution_count": 8,
   "metadata": {},
   "outputs": [],
   "source": [
    "labelInfo=json.loads(labelInfo)"
   ]
  },
  {
   "cell_type": "code",
   "execution_count": 9,
   "metadata": {},
   "outputs": [],
   "source": [
    "testimage='sumatran-tiger-wz-gsmp-m.jpg'"
   ]
  },
  {
   "cell_type": "code",
   "execution_count": 10,
   "metadata": {},
   "outputs": [],
   "source": [
    "img = image.load_img(testimage, target_size=(img_height, img_width))\n",
    "x = image.img_to_array(img)\n",
    "x=x/255\n",
    "x=x.reshape(1,img_height, img_width,3)\n",
    "model_graph = modeScope['modelObj']['model_graph']\n",
    "tf_session = modeScope['modelObj']['tf_session']\n",
    "with model_graph.as_default():\n",
    "    with tf_session.as_default():\n",
    "        modelToUse=modeScope['modelObj']['recoModelObj'].model\n",
    "        predi=modelToUse.predict(x)"
   ]
  },
  {
   "cell_type": "code",
   "execution_count": 11,
   "metadata": {},
   "outputs": [
    {
     "data": {
      "text/plain": [
       "292"
      ]
     },
     "execution_count": 11,
     "metadata": {},
     "output_type": "execute_result"
    }
   ],
   "source": [
    "import numpy as np\n",
    "np.argmax(predi[0])"
   ]
  },
  {
   "cell_type": "code",
   "execution_count": 12,
   "metadata": {},
   "outputs": [
    {
     "data": {
      "text/plain": [
       "['n02129604', 'tiger']"
      ]
     },
     "execution_count": 12,
     "metadata": {},
     "output_type": "execute_result"
    }
   ],
   "source": [
    "labelInfo['292']"
   ]
  },
  {
   "cell_type": "code",
   "execution_count": 13,
   "metadata": {},
   "outputs": [],
   "source": [
    "testimage='bird-article-s.png'\n",
    "img = image.load_img(testimage, target_size=(img_height, img_width))\n",
    "x = image.img_to_array(img)\n",
    "x=x/255\n",
    "x=x.reshape(1,img_height, img_width,3)\n",
    "# model_graph = tf.\n",
    "# tf_session = modeScope['modelObj']['tf_session']\n",
    "# with model_graph.as_default():\n",
    "#     with tf_session.as_default():\n",
    "#         modelToUse=modeScope['modelObj']['recoModelObj'].model\n",
    "predi=model.predict(x)"
   ]
  },
  {
   "cell_type": "code",
   "execution_count": 14,
   "metadata": {},
   "outputs": [
    {
     "data": {
      "text/plain": [
       "11"
      ]
     },
     "execution_count": 14,
     "metadata": {},
     "output_type": "execute_result"
    }
   ],
   "source": [
    "import numpy as np\n",
    "np.argmax(predi[0])"
   ]
  },
  {
   "cell_type": "code",
   "execution_count": 15,
   "metadata": {},
   "outputs": [
    {
     "data": {
      "text/plain": [
       "['n01531178', 'goldfinch']"
      ]
     },
     "execution_count": 15,
     "metadata": {},
     "output_type": "execute_result"
    }
   ],
   "source": [
    "labelInfo['11']"
   ]
  },
  {
   "cell_type": "code",
   "execution_count": 16,
   "metadata": {},
   "outputs": [],
   "source": [
    "model.save('MobileNetModelImagenet.h5')"
   ]
  },
  {
   "cell_type": "code",
   "execution_count": 18,
   "metadata": {},
   "outputs": [],
   "source": [
    "import keras"
   ]
  },
  {
   "cell_type": "code",
   "execution_count": 19,
   "metadata": {},
   "outputs": [],
   "source": [
    "from keras.models import load_model"
   ]
  },
  {
   "cell_type": "code",
   "execution_count": 20,
   "metadata": {},
   "outputs": [
    {
     "name": "stderr",
     "output_type": "stream",
     "text": [
      "C:\\Users\\swsh\\AppData\\Local\\Continuum\\anaconda3\\envs\\py36\\lib\\site-packages\\keras\\engine\\saving.py:292: UserWarning: No training configuration found in save file: the model was *not* compiled. Compile it manually.\n",
      "  warnings.warn('No training configuration found in save file: '\n"
     ]
    },
    {
     "data": {
      "text/plain": [
       "<keras.engine.training.Model at 0x22c19f196a0>"
      ]
     },
     "execution_count": 20,
     "metadata": {},
     "output_type": "execute_result"
    }
   ],
   "source": [
    "load_model('MobileNetModelImagenet.h5')"
   ]
  },
  {
   "cell_type": "code",
   "execution_count": null,
   "metadata": {},
   "outputs": [],
   "source": []
  }
 ],
 "metadata": {
  "kernelspec": {
   "display_name": "Python 3",
   "language": "python",
   "name": "python3"
  },
  "language_info": {
   "codemirror_mode": {
    "name": "ipython",
    "version": 3
   },
   "file_extension": ".py",
   "mimetype": "text/x-python",
   "name": "python",
   "nbconvert_exporter": "python",
   "pygments_lexer": "ipython3",
   "version": "3.6.8"
  }
 },
 "nbformat": 4,
 "nbformat_minor": 2
}
